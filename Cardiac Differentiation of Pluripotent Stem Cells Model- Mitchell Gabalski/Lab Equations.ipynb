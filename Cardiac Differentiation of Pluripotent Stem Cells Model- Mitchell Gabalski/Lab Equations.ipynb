{
 "cells": [
  {
   "cell_type": "code",
   "execution_count": 10,
   "metadata": {},
   "outputs": [
    {
     "data": {
      "text/plain": [
       "(18000, 'uL')"
      ]
     },
     "execution_count": 10,
     "metadata": {},
     "output_type": "execute_result"
    }
   ],
   "source": [
    "#CONCENTRATION CALCULATOR \n",
    "\n",
    "#molarity = x\n",
    "#moles_of_solute = y\n",
    "#total_volume = z\n",
    "\n",
    "x = 6\n",
    "y = 0\n",
    "z = 18000\n",
    "\n",
    "x = y/z\n",
    "y = z*x\n",
    "\n",
    "\n",
    "adj_y = y/10000\n",
    "\n",
    "\n",
    "def Calc(x,y,z): \n",
    "    if x > 0:\n",
    "        return(x, 'uM') \n",
    "    elif y > 0:\n",
    "        return(adj_y,'uL')\n",
    "    else :\n",
    "        return(z, \"uL\")\n",
    "    \n",
    "Calc(x,y,z)"
   ]
  },
  {
   "cell_type": "code",
   "execution_count": null,
   "metadata": {},
   "outputs": [],
   "source": []
  }
 ],
 "metadata": {
  "kernelspec": {
   "display_name": "Python 3",
   "language": "python",
   "name": "python3"
  },
  "language_info": {
   "codemirror_mode": {
    "name": "ipython",
    "version": 3
   },
   "file_extension": ".py",
   "mimetype": "text/x-python",
   "name": "python",
   "nbconvert_exporter": "python",
   "pygments_lexer": "ipython3",
   "version": "3.7.3"
  }
 },
 "nbformat": 4,
 "nbformat_minor": 2
}
